{
  "nbformat": 4,
  "nbformat_minor": 0,
  "metadata": {
    "colab": {
      "name": "Lesson1-AWS-Big-Data-Introduction.ipynb",
      "version": "0.3.2",
      "provenance": [],
      "collapsed_sections": [
        "2iIcfuKHoSog",
        "SZec7zeooabh",
        "UbvGoIR2ofQM",
        "Xxgl3z-HWxrP",
        "qP7Q3bZvoiIR",
        "lmZ7yW7FonZd"
      ],
      "include_colab_link": true
    },
    "kernelspec": {
      "name": "python3",
      "display_name": "Python 3"
    }
  },
  "cells": [
    {
      "cell_type": "markdown",
      "metadata": {
        "id": "view-in-github",
        "colab_type": "text"
      },
      "source": [
        "<a href=\"https://colab.research.google.com/github/paiml/awsbigdata/blob/master/Lesson1_AWS_Big_Data_Introduction.ipynb\" target=\"_parent\"><img src=\"https://colab.research.google.com/assets/colab-badge.svg\" alt=\"Open In Colab\"/></a>"
      ]
    },
    {
      "metadata": {
        "id": "chymwgvAoGP9",
        "colab_type": "text"
      },
      "cell_type": "markdown",
      "source": [
        "# Lesson1:  Introduction"
      ]
    },
    {
      "metadata": {
        "id": "c_Id55m6Jsbu",
        "colab_type": "text"
      },
      "cell_type": "markdown",
      "source": [
        "## Pragmatic AI Labs\n",
        "\n"
      ]
    },
    {
      "metadata": {
        "id": "e5p96AqpSDZa",
        "colab_type": "text"
      },
      "cell_type": "markdown",
      "source": [
        "![alt text](https://paiml.com/images/logo_with_slogan_white_background.png)\n",
        "\n",
        "This notebook was produced by [Pragmatic AI Labs](https://paiml.com/).  You can continue learning about these topics by:\n",
        "\n",
        "*   Buying a copy of [Pragmatic AI: An Introduction to Cloud-Based Machine Learning](http://www.informit.com/store/pragmatic-ai-an-introduction-to-cloud-based-machine-9780134863863) from Informit.\n",
        "*   Buying a copy of  [Pragmatic AI: An Introduction to Cloud-Based Machine Learning](https://www.amazon.com/Pragmatic-AI-Introduction-Cloud-Based-Learning/dp/0134863860) from Amazon\n",
        "*   Reading an online copy of [Pragmatic AI:Pragmatic AI: An Introduction to Cloud-Based Machine Learning](https://www.safaribooksonline.com/library/view/pragmatic-ai-an/9780134863924/)\n",
        "*  Watching video [Essential Machine Learning and AI with Python and Jupyter Notebook-Video-SafariOnline](https://www.safaribooksonline.com/videos/essential-machine-learning/9780135261118) on Safari Books Online.\n",
        "* Watching video [AWS Certified Machine Learning-Speciality](https://learning.oreilly.com/videos/aws-certified-machine/9780135556597)\n",
        "* Purchasing video [Essential Machine Learning and AI with Python and Jupyter Notebook- Purchase Video](http://www.informit.com/store/essential-machine-learning-and-ai-with-python-and-jupyter-9780135261095)\n",
        "*   Viewing more content at [noahgift.com](https://noahgift.com/)\n"
      ]
    },
    {
      "metadata": {
        "id": "2iIcfuKHoSog",
        "colab_type": "text"
      },
      "cell_type": "markdown",
      "source": [
        "## Lesson 1.1  Intro & Learn the answer to “What is Big Data?”"
      ]
    },
    {
      "metadata": {
        "id": "r-tqIMzyTcgn",
        "colab_type": "text"
      },
      "cell_type": "markdown",
      "source": [
        "\n",
        "![Big Data Challenges](https://user-images.githubusercontent.com/58792/54285644-98d7cd00-455f-11e9-823d-ee6fe85af26e.png)"
      ]
    },
    {
      "metadata": {
        "id": "oHl-TEsdoZ5J",
        "colab_type": "text"
      },
      "cell_type": "markdown",
      "source": [
        "### Volume"
      ]
    },
    {
      "metadata": {
        "id": "uaVFeUNvTKKq",
        "colab_type": "text"
      },
      "cell_type": "markdown",
      "source": [
        "### Velocity"
      ]
    },
    {
      "metadata": {
        "id": "8FezY4u_TM1I",
        "colab_type": "text"
      },
      "cell_type": "markdown",
      "source": [
        "### Variety\n"
      ]
    },
    {
      "metadata": {
        "id": "mt-OXA90TPff",
        "colab_type": "text"
      },
      "cell_type": "markdown",
      "source": [
        "### Veracity\n"
      ]
    },
    {
      "metadata": {
        "id": "b_Xdp6y-TZtQ",
        "colab_type": "text"
      },
      "cell_type": "markdown",
      "source": [
        "### Value"
      ]
    },
    {
      "metadata": {
        "id": "SZec7zeooabh",
        "colab_type": "text"
      },
      "cell_type": "markdown",
      "source": [
        "## Lesson 1.2 Learn about the history of Big Data"
      ]
    },
    {
      "metadata": {
        "id": "UbvGoIR2ofQM",
        "colab_type": "text"
      },
      "cell_type": "markdown",
      "source": [
        "### Term Defined 2001"
      ]
    },
    {
      "metadata": {
        "id": "SAnm1H9cWu7N",
        "colab_type": "text"
      },
      "cell_type": "markdown",
      "source": [
        ""
      ]
    },
    {
      "metadata": {
        "id": "Xxgl3z-HWxrP",
        "colab_type": "text"
      },
      "cell_type": "markdown",
      "source": [
        "### Film an Early \"Big Data\" Industry"
      ]
    },
    {
      "metadata": {
        "id": "PP2U5cr9XHzC",
        "colab_type": "text"
      },
      "cell_type": "markdown",
      "source": [
        ""
      ]
    },
    {
      "metadata": {
        "id": "qP7Q3bZvoiIR",
        "colab_type": "text"
      },
      "cell_type": "markdown",
      "source": [
        "## Lesson 1.3 Know AWS Certification"
      ]
    },
    {
      "metadata": {
        "id": "YUy5dOcxYNco",
        "colab_type": "text"
      },
      "cell_type": "markdown",
      "source": [
        "### Collection"
      ]
    },
    {
      "metadata": {
        "id": "bp2yfBAcYSxp",
        "colab_type": "text"
      },
      "cell_type": "markdown",
      "source": [
        "### Storage"
      ]
    },
    {
      "metadata": {
        "id": "KyLZLIpprz1u",
        "colab_type": "text"
      },
      "cell_type": "markdown",
      "source": [
        "### Processing"
      ]
    },
    {
      "metadata": {
        "id": "oEzqB1E7r2YP",
        "colab_type": "text"
      },
      "cell_type": "markdown",
      "source": [
        "### Analysis"
      ]
    },
    {
      "metadata": {
        "id": "sRq_ujUMr62A",
        "colab_type": "text"
      },
      "cell_type": "markdown",
      "source": [
        "### Visualization"
      ]
    },
    {
      "metadata": {
        "id": "Pokei8PzsA0n",
        "colab_type": "text"
      },
      "cell_type": "markdown",
      "source": [
        "### Data Security"
      ]
    },
    {
      "metadata": {
        "id": "lmZ7yW7FonZd",
        "colab_type": "text"
      },
      "cell_type": "markdown",
      "source": [
        "## Lesson 1.4 Understand the AWS Certification Exam-Blueprint"
      ]
    },
    {
      "metadata": {
        "id": "KUnc9dM2oncQ",
        "colab_type": "text"
      },
      "cell_type": "markdown",
      "source": [
        "* [AWS Big Data Exam Guide](https://d1.awsstatic.com/training-and-certification/docs-bigdata-spec/AWS%20Certified%20Big%20Data%20-%20Specialty_Exam%20Guide_v1.3_FINAL.pdf)\n",
        "\n",
        "\n",
        "![Exam Learning Path](https://d1.awsstatic.com/Train%20&%20Cert/Learning%20Paths/path_specialty-ALL.793e6d1c397d70993a0d18b9c627d1f41239802c.png)"
      ]
    },
    {
      "metadata": {
        "id": "ET060N0qos-o",
        "colab_type": "text"
      },
      "cell_type": "markdown",
      "source": [
        "## Lesson 1.5 Learn Exam Strategy"
      ]
    },
    {
      "metadata": {
        "id": "htJ-ngnWotB8",
        "colab_type": "text"
      },
      "cell_type": "markdown",
      "source": [
        ""
      ]
    },
    {
      "metadata": {
        "id": "UQ6yU_Ryo-ZB",
        "colab_type": "text"
      },
      "cell_type": "markdown",
      "source": [
        "## Lesson 1.6 Identify Focus Areas"
      ]
    },
    {
      "metadata": {
        "id": "u106eYBmo-cc",
        "colab_type": "text"
      },
      "cell_type": "markdown",
      "source": [
        ""
      ]
    },
    {
      "metadata": {
        "id": "c-kI49DvpDN9",
        "colab_type": "text"
      },
      "cell_type": "markdown",
      "source": [
        "## Lesson 1.7 Learn Tips & Tricks"
      ]
    },
    {
      "metadata": {
        "id": "PbbEnGH3pDRC",
        "colab_type": "text"
      },
      "cell_type": "markdown",
      "source": [
        ""
      ]
    },
    {
      "metadata": {
        "id": "oj_ilFnIpIOa",
        "colab_type": "text"
      },
      "cell_type": "markdown",
      "source": [
        "## Lesson 1.8 Learn How to register for AWS Certification Exam"
      ]
    },
    {
      "metadata": {
        "id": "uRJ77H4YpIRJ",
        "colab_type": "text"
      },
      "cell_type": "markdown",
      "source": [
        ""
      ]
    }
  ]
}