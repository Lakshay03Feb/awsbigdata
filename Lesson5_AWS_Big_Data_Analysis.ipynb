{
  "nbformat": 4,
  "nbformat_minor": 0,
  "metadata": {
    "colab": {
      "name": "Lesson5-AWS-Big-Data-Analysis.ipynb",
      "version": "0.3.2",
      "provenance": [],
      "collapsed_sections": [
        "c_Id55m6Jsbu",
        "IdrxEbJvoqQN",
        "k4V3F0bhowQ_",
        "zty7ydffo0j6",
        "-7R3yc49o0qB"
      ],
      "include_colab_link": true
    },
    "kernelspec": {
      "name": "python3",
      "display_name": "Python 3"
    }
  },
  "cells": [
    {
      "cell_type": "markdown",
      "metadata": {
        "id": "view-in-github",
        "colab_type": "text"
      },
      "source": [
        "<a href=\"https://colab.research.google.com/github/paiml/awsbigdata/blob/master/Lesson5_AWS_Big_Data_Analysis.ipynb\" target=\"_parent\"><img src=\"https://colab.research.google.com/assets/colab-badge.svg\" alt=\"Open In Colab\"/></a>"
      ]
    },
    {
      "metadata": {
        "id": "Wy6nhdcaVsCH",
        "colab_type": "text"
      },
      "cell_type": "markdown",
      "source": [
        "# Lesson 5 Analysis"
      ]
    },
    {
      "metadata": {
        "id": "c_Id55m6Jsbu",
        "colab_type": "text"
      },
      "cell_type": "markdown",
      "source": [
        "## Pragmatic AI Labs\n",
        "\n"
      ]
    },
    {
      "metadata": {
        "id": "e5p96AqpSDZa",
        "colab_type": "text"
      },
      "cell_type": "markdown",
      "source": [
        "![alt text](https://paiml.com/images/logo_with_slogan_white_background.png)\n",
        "\n",
        "This notebook was produced by [Pragmatic AI Labs](https://paiml.com/).  You can continue learning about these topics by:\n",
        "\n",
        "*   Buying a copy of [Pragmatic AI: An Introduction to Cloud-Based Machine Learning](http://www.informit.com/store/pragmatic-ai-an-introduction-to-cloud-based-machine-9780134863917)\n",
        "*   Reading an online copy of [Pragmatic AI:Pragmatic AI: An Introduction to Cloud-Based Machine Learning](https://www.safaribooksonline.com/library/view/pragmatic-ai-an/9780134863924/)\n",
        "*  Watching video [Essential Machine Learning and AI with Python and Jupyter Notebook-Video-SafariOnline](https://www.safaribooksonline.com/videos/essential-machine-learning/9780135261118) on Safari Books Online.\n",
        "* Watching video [AWS Certified Machine Learning-Speciality](https://learning.oreilly.com/videos/aws-certified-machine/9780135556597)\n",
        "* Purchasing video [Essential Machine Learning and AI with Python and Jupyter Notebook- Purchase Video](http://www.informit.com/store/essential-machine-learning-and-ai-with-python-and-jupyter-9780135261095)\n",
        "*   Viewing more content at [noahgift.com](https://noahgift.com/)\n"
      ]
    },
    {
      "metadata": {
        "id": "IdrxEbJvoqQN",
        "colab_type": "text"
      },
      "cell_type": "markdown",
      "source": [
        "## 5.1 Determine the tools and techniques required for analysis\n"
      ]
    },
    {
      "metadata": {
        "id": "O-WWOXgTAcz_",
        "colab_type": "text"
      },
      "cell_type": "markdown",
      "source": [
        ""
      ]
    },
    {
      "metadata": {
        "id": "k4V3F0bhowQ_",
        "colab_type": "text"
      },
      "cell_type": "markdown",
      "source": [
        "## 5.2 Determine how to design and architect the analytical solution"
      ]
    },
    {
      "metadata": {
        "id": "IzprtbLaAnMu",
        "colab_type": "text"
      },
      "cell_type": "markdown",
      "source": [
        ""
      ]
    },
    {
      "metadata": {
        "id": "zty7ydffo0j6",
        "colab_type": "text"
      },
      "cell_type": "markdown",
      "source": [
        "## 5.3 Determine and optimize the operational characteristics of the Analysis"
      ]
    },
    {
      "metadata": {
        "id": "RujUaBmBo0m-",
        "colab_type": "text"
      },
      "cell_type": "markdown",
      "source": [
        ""
      ]
    },
    {
      "metadata": {
        "id": "-7R3yc49o0qB",
        "colab_type": "text"
      },
      "cell_type": "markdown",
      "source": [
        "## 5.4 Understand Redshift Overview"
      ]
    },
    {
      "metadata": {
        "id": "mljYsdnHAsgE",
        "colab_type": "text"
      },
      "cell_type": "markdown",
      "source": [
        ""
      ]
    },
    {
      "metadata": {
        "id": "vDPvXKnZo0wu",
        "colab_type": "text"
      },
      "cell_type": "markdown",
      "source": [
        "## 5.5 Learn Redshift Design"
      ]
    },
    {
      "metadata": {
        "id": "mWLdPK77o0zw",
        "colab_type": "text"
      },
      "cell_type": "markdown",
      "source": [
        ""
      ]
    },
    {
      "metadata": {
        "id": "GbNGsd8ro02q",
        "colab_type": "text"
      },
      "cell_type": "markdown",
      "source": [
        "## 5.6 Use Redshift Data Ingestion"
      ]
    },
    {
      "metadata": {
        "id": "XRlsLGLJo05e",
        "colab_type": "text"
      },
      "cell_type": "markdown",
      "source": [
        ""
      ]
    },
    {
      "metadata": {
        "id": "RnV_aoluo-Eu",
        "colab_type": "text"
      },
      "cell_type": "markdown",
      "source": [
        "## 5.7 Apply Redshift Operations"
      ]
    },
    {
      "metadata": {
        "id": "lrCT2tkIo-H3",
        "colab_type": "text"
      },
      "cell_type": "markdown",
      "source": [
        ""
      ]
    },
    {
      "metadata": {
        "id": "XkORPI0eo-Ng",
        "colab_type": "text"
      },
      "cell_type": "markdown",
      "source": [
        "## 5.8 Use AWS Elasticsearch - operational analytics"
      ]
    },
    {
      "metadata": {
        "id": "d1ACakrvo-Qu",
        "colab_type": "text"
      },
      "cell_type": "markdown",
      "source": [
        ""
      ]
    },
    {
      "metadata": {
        "id": "PVmn8qQeo-Tr",
        "colab_type": "text"
      },
      "cell_type": "markdown",
      "source": [
        "## 5.9 Implement Machine Learning - Clustering & Regression\n",
        "\n"
      ]
    },
    {
      "metadata": {
        "id": "Lsot1OAjo-XD",
        "colab_type": "text"
      },
      "cell_type": "markdown",
      "source": [
        ""
      ]
    },
    {
      "metadata": {
        "id": "i--k5E2oo-Z7",
        "colab_type": "text"
      },
      "cell_type": "markdown",
      "source": [
        "## 5.10 Use AWS Athena - interactive analytics\n"
      ]
    },
    {
      "metadata": {
        "id": "3Z7Bxbk0o-c6",
        "colab_type": "text"
      },
      "cell_type": "markdown",
      "source": [
        ""
      ]
    },
    {
      "metadata": {
        "id": "rhVUSKhWpOME",
        "colab_type": "text"
      },
      "cell_type": "markdown",
      "source": [
        "## 5.11 Quiz - Analysis\n"
      ]
    },
    {
      "metadata": {
        "id": "s6awB8dwpOPR",
        "colab_type": "text"
      },
      "cell_type": "markdown",
      "source": [
        ""
      ]
    }
  ]
}