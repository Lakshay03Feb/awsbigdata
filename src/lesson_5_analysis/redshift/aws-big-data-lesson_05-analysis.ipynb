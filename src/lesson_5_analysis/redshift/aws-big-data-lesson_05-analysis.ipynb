{
 "cells": [
  {
   "cell_type": "markdown",
   "metadata": {},
   "source": [
    "### Imports"
   ]
  },
  {
   "cell_type": "code",
   "execution_count": 15,
   "metadata": {
    "ExecuteTime": {
     "end_time": "2019-03-02T00:29:23.099281Z",
     "start_time": "2019-03-02T00:29:23.095279Z"
    }
   },
   "outputs": [],
   "source": [
    "import os\n",
    "from pathlib import Path\n"
   ]
  },
  {
   "cell_type": "markdown",
   "metadata": {},
   "source": [
    "### Detect if in Google Colab; the mount Google Drive and list directory contents\n"
   ]
  },
  {
   "cell_type": "code",
   "execution_count": 16,
   "metadata": {
    "ExecuteTime": {
     "end_time": "2019-03-02T00:29:24.697280Z",
     "start_time": "2019-03-02T00:29:24.691280Z"
    }
   },
   "outputs": [
    {
     "name": "stdout",
     "output_type": "stream",
     "text": [
      "local\n"
     ]
    }
   ],
   "source": [
    "if os.path.exists(\"/colabtools\"):\n",
    "    print(\"running on Google Colab\")\n",
    "    try:\n",
    "        from google.colab import drive \n",
    "        drive.mount('/content/gdrive', force_remount=True)\n",
    "        print(\"Google Drive directory contents are:\")\n",
    "        os.listdir(\"/content/gdrive/My Drive/awsml\")\n",
    "        location = \"GOOGLE_COLAB\"\n",
    "    except:\n",
    "        print(\"you are on a local machine... use local aws keys\\n\")\n",
    "        location = \"LOCAL MACHINE\"\n",
    "else:\n",
    "    print(\"local\")"
   ]
  },
  {
   "cell_type": "code",
   "execution_count": 18,
   "metadata": {
    "ExecuteTime": {
     "end_time": "2019-03-02T00:30:21.803284Z",
     "start_time": "2019-03-02T00:30:21.798281Z"
    }
   },
   "outputs": [
    {
     "name": "stdout",
     "output_type": "stream",
     "text": [
      "AWS credentials exist at:  C:\\Users\\chris\\.aws\\credentials\n"
     ]
    }
   ],
   "source": [
    "### Detect if AWS credentials exist\n",
    "aws_credential_path = Path.home().joinpath(\".aws/credentials\")\n",
    "\n",
    "if not aws_credential_path:\n",
    "    print(\"AWS credentials don't exist in default path\")\n",
    "else:\n",
    "    print(\"AWS credentials exist at: \", aws_credential_path)"
   ]
  },
  {
   "cell_type": "code",
   "execution_count": null,
   "metadata": {},
   "outputs": [],
   "source": []
  }
 ],
 "metadata": {
  "kernelspec": {
   "display_name": "Python 3",
   "language": "python",
   "name": "python3"
  },
  "language_info": {
   "codemirror_mode": {
    "name": "ipython",
    "version": 3
   },
   "file_extension": ".py",
   "mimetype": "text/x-python",
   "name": "python",
   "nbconvert_exporter": "python",
   "pygments_lexer": "ipython3",
   "version": "3.7.2"
  },
  "toc": {
   "base_numbering": 1.0,
   "nav_menu": {},
   "number_sections": true,
   "sideBar": true,
   "skip_h1_title": false,
   "title_cell": "Table of Contents",
   "title_sidebar": "Contents",
   "toc_cell": false,
   "toc_position": {},
   "toc_section_display": true,
   "toc_window_display": true
  }
 },
 "nbformat": 4,
 "nbformat_minor": 2
}
